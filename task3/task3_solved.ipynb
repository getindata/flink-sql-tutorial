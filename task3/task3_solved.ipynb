{
 "cells": [
  {
   "attachments": {},
   "cell_type": "markdown",
   "id": "76f5aa64-b9b0-4ed5-a823-f5ffa1a41a3b",
   "metadata": {},
   "source": [
    "# Task 3 - Pattern matching\n",
    "Karen from the security department asked you for help again. Now she wants to find suspicious withdrawals from ATMs. In some ATMs, clients are able to withdraw up to 100PLN without the PIN. The security specialists consider that 3 withdrawals within 10 minutes without PIN should block the card. Please help her with this task.\n",
    "\n",
    "## Project initialization"
   ]
  },
  {
   "cell_type": "code",
   "execution_count": null,
   "id": "211a715a-3dd7-46b8-94c2-bb03f9c05f79",
   "metadata": {},
   "outputs": [],
   "source": [
    "%reload_ext streaming_jupyter_integrations.magics\n",
    "%flink_connect"
   ]
  },
  {
   "attachments": {},
   "cell_type": "markdown",
   "id": "c9da5e34-de37-417a-9d42-7bdd5ce5434c",
   "metadata": {},
   "source": [
    "## Data definition\n",
    "You have access to Kafka topic `atm` with data about ATM withdrawals. First, you have to prepare definitions for this table. Sample messages are available in `data/` directory."
   ]
  },
  {
   "cell_type": "code",
   "execution_count": null,
   "id": "f9bce5ce-f5ab-4bc1-95d1-908fa23f4cc6",
   "metadata": {},
   "outputs": [],
   "source": [
    "%%flink_execute_sql\n",
    "CREATE TABLE atm (\n",
    "    user_id INT,\n",
    "    amount INT,\n",
    "    atm_id STRING,\n",
    "    ts TIMESTAMP(3),\n",
    "    WATERMARK FOR ts AS ts\n",
    ") WITH (\n",
    "    'connector' = 'filesystem',\n",
    "    'path' = 'file:///home/jovyan/task3/data',\n",
    "    'format' = 'json'\n",
    ")"
   ]
  },
  {
   "attachments": {},
   "cell_type": "markdown",
   "id": "01025318-e9f1-4b83-ba60-3760fad2ce41",
   "metadata": {},
   "source": [
    "## Pattern recognition\n",
    "Now create SELECT clause with pattern recognition. In the output we want to have `user_id`, the withdrawn amount and the id of the last ATM. Details about Pattern Recognition you can find [HERE](https://nightlies.apache.org/flink/flink-docs-master/docs/dev/table/sql/queries/match_recognize/)."
   ]
  },
  {
   "cell_type": "code",
   "execution_count": null,
   "id": "5e880b9c-5b7b-4e0c-8ba8-495385f24f46",
   "metadata": {},
   "outputs": [],
   "source": [
    "%%flink_execute_sql\n",
    "SELECT T.user_id, T.last_atm, T.amount\n",
    "FROM atm\n",
    "    MATCH_RECOGNIZE (\n",
    "      PARTITION BY user_id\n",
    "      ORDER BY ts\n",
    "      MEASURES\n",
    "        LAST(A.atm_id) AS last_atm,\n",
    "        SUM(amount) AS amount\n",
    "      PATTERN (A{3}) WITHIN INTERVAL '10' MINUTE\n",
    "      DEFINE\n",
    "        A AS amount <= 100\n",
    "    ) AS T\n"
   ]
  },
  {
   "attachments": {},
   "cell_type": "markdown",
   "id": "cce4581d-3f66-4265-b8b5-0cf9554d30bd",
   "metadata": {},
   "source": [
    "## Write to Kafka\n",
    "To use the power of Flink in a real case, you need to send the data to the relevant kafka topic - in this case topic `task3_output`. The messages should be in JSON format and have 4 fields: \n",
    "- `user_id`\n",
    "- `last_atm_id`\n",
    "- `withdrawn_amount`\n",
    "- `author` - your name"
   ]
  },
  {
   "cell_type": "code",
   "execution_count": null,
   "id": "ff3bd1b3",
   "metadata": {},
   "outputs": [],
   "source": [
    "%%flink_execute_sql\n",
    "CREATE TABLE task3_output (\n",
    "    user_id INT,\n",
    "    withdrawn_amount INT,\n",
    "    last_atm_id STRING,\n",
    "    author STRING\n",
    ") WITH (\n",
    "    'connector' = 'kafka',\n",
    "    'topic' = 'task3_output',\n",
    "    'properties.bootstrap.servers' = '172.18.0.3:9092',\n",
    "    'properties.group.id' = 'task3',\n",
    "    'scan.startup.mode' = 'earliest-offset',\n",
    "    'format' = 'json'\n",
    ")"
   ]
  },
  {
   "cell_type": "code",
   "execution_count": null,
   "id": "fdba63aa",
   "metadata": {},
   "outputs": [],
   "source": [
    "%%flink_execute_sql\n",
    "INSERT INTO task3_output\n",
    "    SELECT\n",
    "      T.user_id,\n",
    "      T.amount,\n",
    "      T.last_atm,\n",
    "      'AUR'\n",
    "    FROM atm\n",
    "        MATCH_RECOGNIZE (\n",
    "          PARTITION BY user_id\n",
    "          ORDER BY ts\n",
    "          MEASURES\n",
    "            LAST(A.atm_id) AS last_atm,\n",
    "            SUM(amount) AS amount\n",
    "          PATTERN (A{3}) WITHIN INTERVAL '10' MINUTE\n",
    "          DEFINE\n",
    "            A AS amount <= 100\n",
    "        ) AS T"
   ]
  }
 ],
 "metadata": {
  "kernelspec": {
   "display_name": "Python 3 (ipykernel)",
   "language": "python",
   "name": "python3"
  },
  "language_info": {
   "codemirror_mode": {
    "name": "ipython",
    "version": 3
   },
   "file_extension": ".py",
   "mimetype": "text/x-python",
   "name": "python",
   "nbconvert_exporter": "python",
   "pygments_lexer": "ipython3",
   "version": "3.8.13"
  }
 },
 "nbformat": 4,
 "nbformat_minor": 5
}
