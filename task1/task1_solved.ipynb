{
 "cells": [
  {
   "attachments": {},
   "cell_type": "markdown",
   "id": "b677ff33-415e-473f-bb79-b5422c35a411",
   "metadata": {},
   "source": [
    "# Task 1 - Introduction to Flink SQL\n",
    "Your coworker Peter wants to learn the basics of data science. For this purpose, he wants to experiment on a public dataset - Iris. The Iris dataset consists of 50 samples from each of 3 species of Iris, each sample has 4 measurements: the length and the width of the sepals and petals (in centimetres). He already found some correlations and needs to extract only the most significant columns. Please help him. Start by downloading data into `task1/data/` folder."
   ]
  },
  {
   "cell_type": "code",
   "execution_count": null,
   "id": "73c16968",
   "metadata": {},
   "outputs": [],
   "source": [
    "!wget https://archive.ics.uci.edu/ml/machine-learning-databases/iris/iris.data -O /home/jovyan/task1/data/iris.csv"
   ]
  },
  {
   "attachments": {},
   "cell_type": "markdown",
   "id": "0c885f6a",
   "metadata": {},
   "source": [
    "## Project initialization\n",
    "The line below we use to load jupyter magics."
   ]
  },
  {
   "cell_type": "code",
   "execution_count": null,
   "id": "84f897ae-e7dd-41a6-b2a7-ab9533ff106e",
   "metadata": {},
   "outputs": [],
   "source": [
    "%reload_ext streaming_jupyter_integrations.magics"
   ]
  },
  {
   "cell_type": "markdown",
   "id": "734c252d-11b7-4874-b569-c15c1351cfd3",
   "metadata": {},
   "source": [
    "We use `%flink_connect` to initialize local environment."
   ]
  },
  {
   "cell_type": "code",
   "execution_count": null,
   "id": "73f2b4cc-58a8-4f94-bcf4-3d8de2e9d96d",
   "metadata": {},
   "outputs": [],
   "source": [
    "%flink_connect"
   ]
  },
  {
   "attachments": {},
   "cell_type": "markdown",
   "id": "0851853d-da41-4bb1-bc72-f62c97a263a1",
   "metadata": {},
   "source": [
    "## Data definition\n",
    "We have the table definition below. You have to fill this DDL in with proper data types. You can find list of available ones [HERE](https://nightlies.apache.org/flink/flink-docs-master/docs/dev/table/types/).\n",
    "\n",
    "More about FileSystem connector and its properties you can read [HERE](https://nightlies.apache.org/flink/flink-docs-master/docs/connectors/table/filesystem/)."
   ]
  },
  {
   "cell_type": "code",
   "execution_count": null,
   "id": "fa874e59-2f51-4cb3-8444-0165f3ff72eb",
   "metadata": {},
   "outputs": [],
   "source": [
    "%%flink_execute_sql\n",
    "CREATE TABLE iris_input (\n",
    "    sepal_length DECIMAL(3,1),\n",
    "    sepal_width DECIMAL(3,1),\n",
    "    petal_length DECIMAL(3,1),\n",
    "    petal_width DECIMAL(3,1),\n",
    "    class STRING\n",
    ") WITH (\n",
    "    'connector' = 'filesystem',\n",
    "    'path' = 'file:///home/jovyan/task1/data/',\n",
    "    'format' = 'csv',\n",
    "    'csv.ignore-parse-errors' = 'true' -- we have some empty lines at the end of file\n",
    ")"
   ]
  },
  {
   "attachments": {},
   "cell_type": "markdown",
   "id": "b2926dbe-a8c5-471d-bd94-926236d183f0",
   "metadata": {},
   "source": [
    "Now you can query the table and validate results. If they are invalid, feel free to `DELETE TABLE iris_input`, fix the definition and try again."
   ]
  },
  {
   "cell_type": "code",
   "execution_count": null,
   "id": "da91f770-4d5e-4f9c-8100-78ecd088f0f1",
   "metadata": {},
   "outputs": [],
   "source": [
    "%%flink_execute_sql\n",
    "SELECT\n",
    "    *\n",
    "FROM\n",
    "    iris_input"
   ]
  },
  {
   "attachments": {},
   "cell_type": "markdown",
   "id": "0ff2070d-7c1f-4642-b171-d8f1a3231ee5",
   "metadata": {},
   "source": [
    "## Save data\n",
    "Now you can save the most important data to the new location in JSON format. Peter said he needs only three columns: class, petal length and petal width. Let's create the output table definition."
   ]
  },
  {
   "cell_type": "code",
   "execution_count": null,
   "id": "6a3b39e2-3f51-47ac-a4ed-99e22070af8e",
   "metadata": {},
   "outputs": [],
   "source": [
    "%%flink_execute_sql\n",
    "CREATE TABLE iris_output (\n",
    "    class STRING,\n",
    "    petal_length DECIMAL(3,1),\n",
    "    petal_width DECIMAL(3,1)\n",
    ") WITH (\n",
    "    'connector' = 'filesystem',\n",
    "    'format' = 'json',\n",
    "    'path' = 'file:///home/jovyan/task1/output/'\n",
    ")"
   ]
  },
  {
   "attachments": {},
   "cell_type": "markdown",
   "id": "68816b61",
   "metadata": {},
   "source": [
    "Then process the data."
   ]
  },
  {
   "cell_type": "code",
   "execution_count": null,
   "id": "372101e5-d5b4-43d0-a939-db259cfcbc12",
   "metadata": {},
   "outputs": [],
   "source": [
    "%%flink_execute_sql\n",
    "INSERT INTO iris_output\n",
    "SELECT\n",
    "    class,\n",
    "    petal_length,\n",
    "    petal_width\n",
    "FROM\n",
    "    iris_input"
   ]
  },
  {
   "attachments": {},
   "cell_type": "markdown",
   "id": "5f88031c",
   "metadata": {},
   "source": [
    "## Filters&Transformations\n",
    "Peter has one more request. He would like to get all measurements in millimetres and filter the rows where `petal_width` is greater than 2 cm. Please help him."
   ]
  },
  {
   "cell_type": "code",
   "execution_count": null,
   "id": "d23a35ae",
   "metadata": {},
   "outputs": [],
   "source": [
    "%%flink_execute_sql\n",
    "SELECT\n",
    "    sepal_length * 10 AS sepal_length,\n",
    "    sepal_width * 10 AS sepal_width,\n",
    "    petal_length * 10 AS petal_length,\n",
    "    petal_width * 10 AS petal_width,\n",
    "    class\n",
    "FROM\n",
    "    iris_input\n",
    "WHERE\n",
    "    petal_width > 2"
   ]
  }
 ],
 "metadata": {
  "kernelspec": {
   "display_name": "Python 3 (ipykernel)",
   "language": "python",
   "name": "python3"
  },
  "language_info": {
   "codemirror_mode": {
    "name": "ipython",
    "version": 3
   },
   "file_extension": ".py",
   "mimetype": "text/x-python",
   "name": "python",
   "nbconvert_exporter": "python",
   "pygments_lexer": "ipython3",
   "version": "3.8.13"
  }
 },
 "nbformat": 4,
 "nbformat_minor": 5
}
