{
 "cells": [
  {
   "cell_type": "markdown",
   "id": "53609d68-fcba-4ec9-b7dd-bf3e0d9b22dc",
   "metadata": {},
   "source": [
    "# Task 2 - Timely stream processing\n",
    "In this task, you have to help a bank security department. They need to find suspicious transfers. The first idea to find these types of events is to look at the transfers sent shortly after app activation. Help them and write the proper job!"
   ]
  },
  {
   "cell_type": "code",
   "execution_count": null,
   "id": "40b82dc3-31b7-469f-aaba-8133d1e7d56e",
   "metadata": {},
   "outputs": [],
   "source": [
    "%reload_ext streaming_jupyter_integrations.magics\n",
    "%flink_connect"
   ]
  },
  {
   "cell_type": "markdown",
   "id": "d8e73d3e-e448-4634-9f97-ce8b52aca374",
   "metadata": {},
   "source": [
    "You have access to 2 Kafka topics. In the topic `transfers` you have data about transfers. In the topic `app_activations` you can find information about app activations. Sample messages are available in `data/` directory. First, you have to prepare definitions for these tables. You can find Kafka Table example [here](https://nightlies.apache.org/flink/flink-docs-master/docs/connectors/table/kafka/)."
   ]
  },
  {
   "cell_type": "code",
   "execution_count": null,
   "id": "4376dcc7-c869-4dc6-87b7-16d1026197ba",
   "metadata": {},
   "outputs": [],
   "source": [
    "%%flink_execute_sql\n",
    "CREATE TABLE transfers (\n",
    "    transaction_id STRING,\n",
    "    user_id INT,\n",
    "    amount DECIMAL(38,2),\n",
    "    currency STRING,\n",
    "    IBAN STRING,\n",
    "    ts TIMESTAMP(3),\n",
    "    WATERMARK FOR ts AS ts\n",
    ") WITH (\n",
    "    'connector' = 'kafka',\n",
    "    'topic' = 'transfers',\n",
    "    'properties.bootstrap.servers' = '172.18.0.3:9092',\n",
    "    'properties.group.id' = 'task2',\n",
    "    'scan.startup.mode' = 'earliest-offset',\n",
    "    'format' = 'json'\n",
    ")"
   ]
  },
  {
   "cell_type": "code",
   "execution_count": null,
   "id": "c7fab6d7-ddfb-4d74-94ce-a485b905d374",
   "metadata": {},
   "outputs": [],
   "source": [
    "%%flink_execute_sql\n",
    "CREATE TABLE app_activations (\n",
    "    user_id INT,\n",
    "    device_fingerprint STRING,\n",
    "    app_version STRING,\n",
    "    ts TIMESTAMP(3),\n",
    "    WATERMARK FOR ts AS ts\n",
    ") WITH (\n",
    "    'connector' = 'kafka',\n",
    "    'topic' = 'app_activations',\n",
    "    'properties.bootstrap.servers' = '172.18.0.3:9092',\n",
    "    'properties.group.id' = 'task2',\n",
    "    'scan.startup.mode' = 'earliest-offset',\n",
    "    'format' = 'json'\n",
    ")"
   ]
  },
  {
   "cell_type": "markdown",
   "id": "5a1cfd5b-443e-49dd-b5b8-a327e99a6254",
   "metadata": {},
   "source": [
    "Now it's time to write a select clause. Find the transfers happened max 2 minutes after app activation."
   ]
  },
  {
   "cell_type": "code",
   "execution_count": null,
   "id": "1c12e80a-0003-4775-9703-e42924d734b9",
   "metadata": {},
   "outputs": [],
   "source": [
    "%%flink_execute_sql\n",
    "SELECT\n",
    "    t.*\n",
    "FROM\n",
    "    app_activations a,\n",
    "    transfers t \n",
    "WHERE\n",
    "    a.user_id = t.user_id\n",
    "AND t.ts BETWEEN a.ts AND a.ts + INTERVAL '2' MINUTES"
   ]
  },
  {
   "attachments": {},
   "cell_type": "markdown",
   "id": "5d0f5493-e88e-4d1d-a605-13120f535bef",
   "metadata": {},
   "source": [
    "## Windows&aggregations\n",
    "Director of the security department has one extra request. He would like to know after every hour how many suspicious transfert happened THIS DAY. Please help him. More about windows you can find [HERE](https://nightlies.apache.org/flink/flink-docs-master/docs/dev/table/sql/queries/window-tvf/)."
   ]
  },
  {
   "cell_type": "code",
   "execution_count": null,
   "id": "58022c38",
   "metadata": {},
   "outputs": [],
   "source": [
    "%%flink_execute_sql\n",
    "WITH suspicious AS (\n",
    "    SELECT\n",
    "        t.*\n",
    "    FROM\n",
    "        app_activations a,\n",
    "        transfers t \n",
    "    WHERE a.user_id = t.user_id\n",
    "    AND t.ts BETWEEN a.ts AND a.ts + INTERVAL '2' MINUTES\n",
    ")\n",
    "SELECT\n",
    "    window_start,\n",
    "    window_end,\n",
    "    count(distinct transaction_id) as t_cnt\n",
    "FROM TABLE(\n",
    "    CUMULATE(\n",
    "        TABLE suspicious,\n",
    "        DESCRIPTOR(ts),\n",
    "        INTERVAL '1' HOUR,\n",
    "        INTERVAL '1' DAY))\n",
    "GROUP BY\n",
    "    window_start,\n",
    "    window_end"
   ]
  }
 ],
 "metadata": {
  "kernelspec": {
   "display_name": "Python 3 (ipykernel)",
   "language": "python",
   "name": "python3"
  },
  "language_info": {
   "codemirror_mode": {
    "name": "ipython",
    "version": 3
   },
   "file_extension": ".py",
   "mimetype": "text/x-python",
   "name": "python",
   "nbconvert_exporter": "python",
   "pygments_lexer": "ipython3",
   "version": "3.8.13"
  }
 },
 "nbformat": 4,
 "nbformat_minor": 5
}
