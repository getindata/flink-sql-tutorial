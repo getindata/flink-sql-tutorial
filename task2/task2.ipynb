{
 "cells": [
  {
   "cell_type": "markdown",
   "id": "53609d68-fcba-4ec9-b7dd-bf3e0d9b22dc",
   "metadata": {},
   "source": [
    "# Task 2 - Timely stream processing\n",
    "Karen from the security department has a new request for you. She needs to find suspicious transfers. The first idea is to look at the transfers sent shortly after app activation. Help her and write the proper job!\n",
    "\n",
    "## Project initialization"
   ]
  },
  {
   "cell_type": "code",
   "execution_count": null,
   "id": "40b82dc3-31b7-469f-aaba-8133d1e7d56e",
   "metadata": {},
   "outputs": [],
   "source": [
    "%reload_ext streaming_jupyter_integrations.magics\n",
    "%flink_connect"
   ]
  },
  {
   "cell_type": "code",
   "execution_count": null,
   "id": "c7a2f152-872d-4595-acf2-c971c2e5dc00",
   "metadata": {},
   "outputs": [],
   "source": [
    "%env KAFKA_PASSWORD=BigDataTech\n",
    "%env KAFKA_IP=34.77.18.247"
   ]
  },
  {
   "cell_type": "markdown",
   "id": "d8e73d3e-e448-4634-9f97-ce8b52aca374",
   "metadata": {},
   "source": [
    "## Data definition\n",
    "You have access to 2 Kafka topics:  `transfers` and `app_activations`. First, you have to prepare definitions for these tables. You can find Kafka Table example [HERE](https://nightlies.apache.org/flink/flink-docs-master/docs/connectors/table/kafka/). To check events schema look at sample messages in `data/` directory."
   ]
  },
  {
   "cell_type": "code",
   "execution_count": null,
   "id": "4376dcc7-c869-4dc6-87b7-16d1026197ba",
   "metadata": {},
   "outputs": [],
   "source": [
    "%%flink_execute_sql\n",
    "CREATE TABLE transfers (\n",
    "    <fillme>\n",
    "    WATERMARK\n",
    ") WITH (\n",
    "    'connector' = 'kafka',\n",
    "    'topic' = '<fillme>',\n",
    "    'properties.bootstrap.servers' = '<fillme>',\n",
    "    'properties.group.id' = '<fillme>',\n",
    "    'scan.startup.mode' = 'earliest-offset',\n",
    "    'format' = '<fillme>',\n",
    "    'properties.security.protocol' = 'SASL_PLAINTEXT',\n",
    "    'properties.sasl.mechanism' = 'PLAIN',\n",
    "    'properties.sasl.plain.username' = 'user',\n",
    "    'properties.sasl.plain.password' = '${KAFKA_PASSWORD}',\n",
    "    'properties.sasl.jaas.config' = 'org.apache.kafka.common.security.plain.PlainLoginModule required username=\"user\" password=\"${KAFKA_PASSWORD}\";'\n",
    ")"
   ]
  },
  {
   "cell_type": "code",
   "execution_count": null,
   "id": "c7fab6d7-ddfb-4d74-94ce-a485b905d374",
   "metadata": {},
   "outputs": [],
   "source": [
    "%%flink_execute_sql\n",
    "CREATE TABLE app_activations (\n",
    "    <fillme>\n",
    ") WITH (\n",
    "    <fillme>\n",
    ")"
   ]
  },
  {
   "cell_type": "markdown",
   "id": "5a1cfd5b-443e-49dd-b5b8-a327e99a6254",
   "metadata": {},
   "source": [
    "## Join&Query Data\n",
    "Now it's time to write a select clause. Find the transfers which happened max 2 minutes after app activation. You can find the join syntax [HERE](https://nightlies.apache.org/flink/flink-docs-master/docs/dev/table/sql/queries/joins/)."
   ]
  },
  {
   "cell_type": "code",
   "execution_count": null,
   "id": "1c12e80a-0003-4775-9703-e42924d734b9",
   "metadata": {},
   "outputs": [],
   "source": [
    "%%flink_execute_sql\n",
    "SELECT\n",
    "    t.*\n",
    "FROM\n",
    "    app_activations a,\n",
    "    transfers t\n",
    "WHERE <fillme>"
   ]
  },
  {
   "cell_type": "markdown",
   "id": "c310d13a",
   "metadata": {},
   "source": [
    "## Windows&aggregations\n",
    "Karen has one extra request. Every hour she would like to get the report with the number of suspicious transfers that happened since the beginning of this day. Please help her. More about windows you can find [HERE](https://nightlies.apache.org/flink/flink-docs-master/docs/dev/table/sql/queries/window-tvf/)."
   ]
  },
  {
   "cell_type": "code",
   "execution_count": null,
   "id": "b65197a4",
   "metadata": {},
   "outputs": [],
   "source": [
    "%%flink_execute_sql\n",
    "<fillme>"
   ]
  }
 ],
 "metadata": {
  "kernelspec": {
   "display_name": "Python 3 (ipykernel)",
   "language": "python",
   "name": "python3"
  },
  "language_info": {
   "codemirror_mode": {
    "name": "ipython",
    "version": 3
   },
   "file_extension": ".py",
   "mimetype": "text/x-python",
   "name": "python",
   "nbconvert_exporter": "python",
   "pygments_lexer": "ipython3",
   "version": "3.8.13"
  }
 },
 "nbformat": 4,
 "nbformat_minor": 5
}
