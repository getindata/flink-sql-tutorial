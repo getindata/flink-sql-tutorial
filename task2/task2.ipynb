{
 "cells": [
  {
   "cell_type": "markdown",
   "id": "53609d68-fcba-4ec9-b7dd-bf3e0d9b22dc",
   "metadata": {},
   "source": [
    "# Task 2 - Timely stream processing\n",
    "In this task, you have to help a bank security department. They need to find suspicious transfers. The first idea to find these types of events is to look at the transfers sent shortly after app activation. Help them and write the proper job!"
   ]
  },
  {
   "cell_type": "code",
   "execution_count": null,
   "id": "40b82dc3-31b7-469f-aaba-8133d1e7d56e",
   "metadata": {},
   "outputs": [],
   "source": [
    "%reload_ext streaming_jupyter_integrations.magics"
   ]
  },
  {
   "cell_type": "code",
   "execution_count": null,
   "id": "4f3df5e0-895e-4136-8356-09dee993feb3",
   "metadata": {},
   "outputs": [],
   "source": [
    "%flink_connect"
   ]
  },
  {
   "cell_type": "markdown",
   "id": "d8e73d3e-e448-4634-9f97-ce8b52aca374",
   "metadata": {},
   "source": [
    "You have access to 2 Kafka topics. In the topic `transfers` you have data about transfers. In the topic `app_activations` you can find information about app activations. Sample messages are available in `data/` directory. First, you have to prepare definitions for these tables. You can find Kafka Table example [here](https://nightlies.apache.org/flink/flink-docs-master/docs/connectors/table/kafka/)."
   ]
  },
  {
   "cell_type": "code",
   "execution_count": null,
   "id": "4376dcc7-c869-4dc6-87b7-16d1026197ba",
   "metadata": {},
   "outputs": [],
   "source": [
    "%%flink_execute_sql\n",
    "CREATE TABLE transfers (\n",
    "    <fillme>\n",
    ") WITH (\n",
    "    'connector' = '<fillme>',\n",
    "    'topic' = '<fillme>',\n",
    "    'properties.bootstrap.servers' = '<fillme>',\n",
    "    'properties.group.id' = '<fillme>',\n",
    "    'scan.startup.mode' = '<fillme>',\n",
    "    'format' = '<fillme>'\n",
    ")"
   ]
  },
  {
   "cell_type": "code",
   "execution_count": null,
   "id": "c7fab6d7-ddfb-4d74-94ce-a485b905d374",
   "metadata": {},
   "outputs": [],
   "source": [
    "%%flink_execute_sql\n",
    "CREATE TABLE app_activations (\n",
    "    <fillme>\n",
    ") WITH (\n",
    "    <fillme>\n",
    ")"
   ]
  },
  {
   "cell_type": "markdown",
   "id": "5a1cfd5b-443e-49dd-b5b8-a327e99a6254",
   "metadata": {},
   "source": [
    "Now it's time to write a select clause. Find the transfers happened max 2 minutes after app activation."
   ]
  },
  {
   "cell_type": "code",
   "execution_count": null,
   "id": "1c12e80a-0003-4775-9703-e42924d734b9",
   "metadata": {},
   "outputs": [],
   "source": [
    "%%flink_execute_sql\n",
    "SELECT\n",
    "    t.*\n",
    "FROM app_activations a, transfers t "
   ]
  },
  {
   "cell_type": "code",
   "execution_count": null,
   "id": "5d0f5493-e88e-4d1d-a605-13120f535bef",
   "metadata": {},
   "outputs": [],
   "source": []
  }
 ],
 "metadata": {
  "kernelspec": {
   "display_name": "Python 3 (ipykernel)",
   "language": "python",
   "name": "python3"
  },
  "language_info": {
   "codemirror_mode": {
    "name": "ipython",
    "version": 3
   },
   "file_extension": ".py",
   "mimetype": "text/x-python",
   "name": "python",
   "nbconvert_exporter": "python",
   "pygments_lexer": "ipython3",
   "version": "3.8.13"
  }
 },
 "nbformat": 4,
 "nbformat_minor": 5
}
